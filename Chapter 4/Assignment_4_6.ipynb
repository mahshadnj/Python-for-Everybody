{
  "nbformat": 4,
  "nbformat_minor": 0,
  "metadata": {
    "colab": {
      "provenance": []
    },
    "kernelspec": {
      "name": "python3",
      "display_name": "Python 3"
    },
    "language_info": {
      "name": "python"
    }
  },
  "cells": [
    {
      "cell_type": "markdown",
      "source": [
        "4.6 Write a program to prompt the user for hours and rate per hour using input to compute gross pay. Pay should be the normal rate for hours up to 40 and time-and-a-half for the hourly rate for all hours worked above 40 hours. Put the logic to do the computation of pay in a function called computepay() and use the function to do the computation. The function should return a value. Use 45 hours and a rate of 10.50 per hour to test the program (the pay should be 498.75). You should use input to read a string and float() to convert the string to a number. Do not worry about error checking the user input unless you want to - you can assume the user types numbers properly. Do not name your variable sum or use the sum() function.\n",
        "\n",
        "\n",
        "\n",
        "> Desired answer: **Pay 498.75**\n",
        "\n"
      ],
      "metadata": {
        "id": "A8cK6ZDfIeBT"
      }
    },
    {
      "cell_type": "code",
      "source": [
        "def computepay(h, r):\n",
        "    if h>40:\n",
        "        new_rate = (1.5*r)*(h-40)\n",
        "\n",
        "    return ((h-5)*r)+ new_rate\n",
        "\n",
        "hrs = input(\"Enter Hours:\")\n",
        "hrs = float(hrs)\n",
        "\n",
        "rate = input(\"Enter rate:\")\n",
        "rate = float(rate)\n",
        "\n",
        "p = computepay(hrs, rate)\n",
        "print(\"Pay\", p)"
      ],
      "metadata": {
        "colab": {
          "base_uri": "https://localhost:8080/"
        },
        "id": "VQGhL9HAIh1n",
        "outputId": "99fc5ab1-0484-4581-b55a-d9f221bb5665"
      },
      "execution_count": 1,
      "outputs": [
        {
          "output_type": "stream",
          "name": "stdout",
          "text": [
            "Enter Hours:45\n",
            "Enter rate:10.5\n",
            "Pay 498.75\n"
          ]
        }
      ]
    }
  ]
}